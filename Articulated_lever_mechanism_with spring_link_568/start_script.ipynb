{
 "cells": [
  {
   "cell_type": "markdown",
   "metadata": {},
   "source": [
    "## Import libary"
   ]
  },
  {
   "cell_type": "code",
   "execution_count": 1,
   "metadata": {},
   "outputs": [],
   "source": [
    "\n",
    "import pychrono.core as chr\n",
    "import pychrono.irrlicht as chrirr\n",
    "from IPython.display import Image # Libary for manipulate images\n",
    "import numpy as np\n",
    "import matplotlib.pyplot as plt\n",
    "import MechanismSystem as mech"
   ]
  },
  {
   "cell_type": "markdown",
   "metadata": {},
   "source": [
    "Show mechanism from the book: Artobolevski_II_mexanixmy_1"
   ]
  },
  {
   "cell_type": "code",
   "execution_count": 2,
   "metadata": {},
   "outputs": [
    {
     "data": {
      "text/html": [
       "<img src=\"mechanism.png\" width=\"640\" height=\"480\"/>"
      ],
      "text/plain": [
       "<IPython.core.display.Image object>"
      ]
     },
     "execution_count": 2,
     "metadata": {},
     "output_type": "execute_result"
    }
   ],
   "source": [
    "Image(url = \"mechanism.png\", width= 640, height = 480)"
   ]
  },
  {
   "cell_type": "markdown",
   "metadata": {},
   "source": [
    "Add absolute path chrono engine data in environment"
   ]
  },
  {
   "cell_type": "code",
   "execution_count": 3,
   "metadata": {},
   "outputs": [],
   "source": [
    "#chr.SetChronoDataPath('D:/Programms/anaconda3/pkgs/pychrono-7.0.0-py39_0/Library/data/')"
   ]
  },
  {
   "cell_type": "markdown",
   "metadata": {},
   "source": [
    "## Initilize chrono system"
   ]
  },
  {
   "cell_type": "code",
   "execution_count": 4,
   "metadata": {},
   "outputs": [],
   "source": [
    "system = chr.ChSystemNSC()\n",
    "system.Set_G_acc(chr.ChVectorD(0,0,0)) # Set zero gravity "
   ]
  },
  {
   "cell_type": "markdown",
   "metadata": {},
   "source": [
    "Parameters"
   ]
  },
  {
   "cell_type": "code",
   "execution_count": 5,
   "metadata": {},
   "outputs": [],
   "source": [
    "\n",
    "len_link_2 = 0.6 #[m]\n",
    "len_BC = 0.2 #[m]"
   ]
  },
  {
   "cell_type": "markdown",
   "metadata": {},
   "source": [
    "## Simulate"
   ]
  },
  {
   "cell_type": "code",
   "execution_count": 6,
   "metadata": {},
   "outputs": [
    {
     "name": "stdout",
     "output_type": "stream",
     "text": [
      "Cannot use default video driver - fall back to OpenGL \n"
     ]
    },
    {
     "ename": "KeyboardInterrupt",
     "evalue": "",
     "output_type": "error",
     "traceback": [
      "\u001b[1;31m---------------------------------------------------------------------------\u001b[0m",
      "\u001b[1;31mKeyboardInterrupt\u001b[0m                         Traceback (most recent call last)",
      "\u001b[1;32md:\\Files\\experiments_with_pychrono\\Articulated_lever_mechanism_with spring_link_568\\start_script.ipynb Ячейка 12\u001b[0m in \u001b[0;36m<cell line: 4>\u001b[1;34m()\u001b[0m\n\u001b[0;32m      <a href='vscode-notebook-cell:/d%3A/Files/experiments_with_pychrono/Articulated_lever_mechanism_with%20spring_link_568/start_script.ipynb#W5sZmlsZQ%3D%3D?line=1'>2</a>\u001b[0m mechanism\u001b[39m.\u001b[39mCreateBodies()\n\u001b[0;32m      <a href='vscode-notebook-cell:/d%3A/Files/experiments_with_pychrono/Articulated_lever_mechanism_with%20spring_link_568/start_script.ipynb#W5sZmlsZQ%3D%3D?line=2'>3</a>\u001b[0m mechanism\u001b[39m.\u001b[39mAddJoints()\n\u001b[1;32m----> <a href='vscode-notebook-cell:/d%3A/Files/experiments_with_pychrono/Articulated_lever_mechanism_with%20spring_link_568/start_script.ipynb#W5sZmlsZQ%3D%3D?line=3'>4</a>\u001b[0m arr_time, ang, omg \u001b[39m=\u001b[39m mechanism\u001b[39m.\u001b[39;49mSimulate()\n",
      "File \u001b[1;32md:\\Files\\experiments_with_pychrono\\Articulated_lever_mechanism_with spring_link_568\\MechanismSystem.py:195\u001b[0m, in \u001b[0;36mMechanismSystem.Simulate\u001b[1;34m(self, time_stop, time_step)\u001b[0m\n\u001b[0;32m    193\u001b[0m \u001b[39mwhile\u001b[39;00m(myapplication\u001b[39m.\u001b[39mGetDevice()\u001b[39m.\u001b[39mrun()):\n\u001b[0;32m    194\u001b[0m     myapplication\u001b[39m.\u001b[39mBeginScene()\n\u001b[1;32m--> 195\u001b[0m     myapplication\u001b[39m.\u001b[39;49mDrawAll()\n\u001b[0;32m    197\u001b[0m     chrirr\u001b[39m.\u001b[39mdrawAllLinkframes(\u001b[39mself\u001b[39m\u001b[39m.\u001b[39mchr_system, myapplication\u001b[39m.\u001b[39mGetVideoDriver(),\u001b[39m1\u001b[39m)\n\u001b[0;32m    199\u001b[0m     time\u001b[39m.\u001b[39mappend(\u001b[39mself\u001b[39m\u001b[39m.\u001b[39mchr_system\u001b[39m.\u001b[39mGetChTime())\n",
      "\u001b[1;31mKeyboardInterrupt\u001b[0m: "
     ]
    },
    {
     "ename": "",
     "evalue": "",
     "output_type": "error",
     "traceback": [
      "\u001b[1;31mПри выполнении кода в текущей ячейке или предыдущей ячейке ядро аварийно завершило работу. Проверьте код в ячейках, чтобы определить возможную причину сбоя. Щелкните <a href=\"https://aka.ms/vscodeJupyterKernelCrash\">здесь</a> для получения дополнительных сведений. Подробнее см. в <a href='command:jupyter.viewOutput'>журнале Jupyter</a>."
     ]
    }
   ],
   "source": [
    "\n",
    "mechanism = mech.MechanismSystem(system,len_link_2,len_BC)\n",
    "mechanism.CreateBodies()\n",
    "mechanism.AddJoints()\n",
    "arr_time, ang, omg = mechanism.Simulate()"
   ]
  },
  {
   "cell_type": "markdown",
   "metadata": {},
   "source": [
    "Plot graphics"
   ]
  },
  {
   "cell_type": "code",
   "execution_count": null,
   "metadata": {},
   "outputs": [
    {
     "data": {
      "text/plain": [
       "Text(0, 0.5, 'omega, [rad/s]')"
      ]
     },
     "execution_count": 7,
     "metadata": {},
     "output_type": "execute_result"
    }
   ],
   "source": [
    "plt.figure(figsize=(18,12))\n",
    "\n",
    "plt.subplot(2,1,1)\n",
    "plt.title(\"Motor Position\")\n",
    "plt.plot(arr_time,ang)\n",
    "plt.grid(True)\n",
    "plt.xlabel(\"Time, [s]\")\n",
    "plt.ylabel(\"teta, [rad]\")\n",
    "plt.subplot(2,1,2)\n",
    "plt.title(\"Motor Velocity\")\n",
    "plt.plot(arr_time,omg)\n",
    "plt.grid(True)\n",
    "plt.xlabel(\"Time, [s]\")\n",
    "plt.ylabel(\"omega, [rad/s]\")\n",
    "\n"
   ]
  }
 ],
 "metadata": {
  "kernelspec": {
   "display_name": "Python 3.9.12 ('base')",
   "language": "python",
   "name": "python3"
  },
  "language_info": {
   "codemirror_mode": {
    "name": "ipython",
    "version": 3
   },
   "file_extension": ".py",
   "mimetype": "text/x-python",
   "name": "python",
   "nbconvert_exporter": "python",
   "pygments_lexer": "ipython3",
   "version": "3.9.12"
  },
  "orig_nbformat": 4,
  "vscode": {
   "interpreter": {
    "hash": "df335860a33a92aed4af16382764ff3d4b3111c4ffcbbcc7a8dcfac248bf2419"
   }
  }
 },
 "nbformat": 4,
 "nbformat_minor": 2
}
